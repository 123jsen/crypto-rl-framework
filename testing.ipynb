{
 "cells": [
  {
   "cell_type": "code",
   "execution_count": 1,
   "metadata": {},
   "outputs": [],
   "source": [
    "import numpy as np\n",
    "from agent import Agent\n",
    "from environment import CryptoEnv\n",
    "from datetime import date, timedelta"
   ]
  },
  {
   "cell_type": "code",
   "execution_count": 2,
   "metadata": {},
   "outputs": [],
   "source": [
    "agent = Agent()\n",
    "agent.load(\"./model_output/btcbusd/weights_0200.hdf5\")\n",
    "agent.epsilon = 0 # Remember this, to set agent to testing mode\n",
    "\n",
    "env = CryptoEnv()\n",
    "\n",
    "amount = 1000   # Starting amount for testing"
   ]
  },
  {
   "cell_type": "code",
   "execution_count": 3,
   "metadata": {},
   "outputs": [],
   "source": [
    "def flatten(state):\n",
    "    \"\"\"Returns flattened state\"\"\"\n",
    "    state = np.concatenate((state[0].flatten(), [state[1]], [state[2]]))\n",
    "    return np.reshape(state, (1, -1))\n",
    "\n",
    "actionMap = {\n",
    "    0: 0,\n",
    "    1: 10,\n",
    "    2: 50,\n",
    "    3: 100,\n",
    "    4: -10,\n",
    "    5: -50,\n",
    "    6: -100\n",
    "}"
   ]
  },
  {
   "cell_type": "code",
   "execution_count": 4,
   "metadata": {},
   "outputs": [
    {
     "name": "stdout",
     "output_type": "stream",
     "text": [
      "Date       | Start Value | End Value | % Change\n",
      "2022-07-01       1000.000     953.982    -4.60%\n",
      "2022-07-02        953.982     952.883    -0.12%\n",
      "2022-07-03        952.883     957.065     0.44%\n",
      "2022-07-04        957.065    1006.659     5.18%\n",
      "2022-07-05       1006.659     999.055    -0.76%\n",
      "2022-07-06        999.055    1015.368     1.63%\n",
      "2022-07-07       1015.368    1070.137     5.39%\n",
      "2022-07-08       1070.137    1063.375    -0.63%\n",
      "2022-07-09       1063.375    1064.891     0.14%\n",
      "2022-07-10       1064.891    1034.131    -2.89%\n",
      "2022-07-11       1034.131     995.576    -3.73%\n",
      "2022-07-12        995.576     967.415    -2.83%\n",
      "2022-07-13        967.415    1009.888     4.39%\n",
      "2022-07-14       1009.888    1025.612     1.56%\n",
      "2022-07-15       1025.612    1044.578     1.85%\n",
      "2022-07-16       1044.578    1067.357     2.18%\n",
      "2022-07-17       1067.357    1044.855    -2.11%\n",
      "2022-07-18       1044.855    1122.799     7.46%\n"
     ]
    }
   ],
   "source": [
    "startDate = date(2022, 7, 1)\n",
    "endDate = date(2022, 7, 30)\n",
    "delta = timedelta(days=1)\n",
    "\n",
    "print(\"Date       | Start Value | End Value | % Change\")\n",
    "\n",
    "day = startDate\n",
    "while (day != endDate + delta):\n",
    "    state = env.reset(day)\n",
    "    state = flatten(state)\n",
    "\n",
    "    done = False\n",
    "    while not done:\n",
    "        # Trains for 1440 timesteps per episode\n",
    "        action = agent.act(state)\n",
    "        nextState, done, reward, value = env.step(actionMap[action])\n",
    "        nextState = flatten(nextState)\n",
    "        state = nextState\n",
    "        if done:\n",
    "            profitPercent = (value - 1000) / 1000 * 100\n",
    "            print(f\"{day}     {amount:10.3f}  {amount * (1 + profitPercent / 100):10.3f} {profitPercent:8.2f}%\")\n",
    "            amount *= (1 + profitPercent / 100)\n",
    "\n",
    "    day += delta\n",
    "    \n",
    "print(f\"Final amount: ${amount:3f}\")"
   ]
  },
  {
   "cell_type": "code",
   "execution_count": null,
   "metadata": {},
   "outputs": [],
   "source": []
  }
 ],
 "metadata": {
  "kernelspec": {
   "display_name": "Python 3",
   "language": "python",
   "name": "python3"
  },
  "language_info": {
   "codemirror_mode": {
    "name": "ipython",
    "version": 3
   },
   "file_extension": ".py",
   "mimetype": "text/x-python",
   "name": "python",
   "nbconvert_exporter": "python",
   "pygments_lexer": "ipython3",
   "version": "3.10.4"
  },
  "orig_nbformat": 4,
  "vscode": {
   "interpreter": {
    "hash": "369f2c481f4da34e4445cda3fffd2e751bd1c4d706f27375911949ba6bb62e1c"
   }
  }
 },
 "nbformat": 4,
 "nbformat_minor": 2
}
