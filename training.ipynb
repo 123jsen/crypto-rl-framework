{
 "cells": [
  {
   "attachments": {},
   "cell_type": "markdown",
   "metadata": {},
   "source": [
    "## Training Notebook\n",
    "Code to train the agent"
   ]
  },
  {
   "cell_type": "code",
   "execution_count": 1,
   "metadata": {},
   "outputs": [],
   "source": [
    "import numpy as np\n",
    "from agent import Agent\n",
    "from environment import CryptoEnv\n",
    "from datetime import date, timedelta\n",
    "from keras.models import clone_model"
   ]
  },
  {
   "cell_type": "code",
   "execution_count": 2,
   "metadata": {},
   "outputs": [],
   "source": [
    "agent = Agent(epsilonDecay=0.99)\n",
    "env = CryptoEnv()\n",
    "\n",
    "batchSize = 512\n",
    "startDate = date(2019, 10, 1)\n",
    "endDate = date(2022, 5, 31)\n",
    "scoreArr = []\n",
    "\n",
    "output_dir = 'model_output/btcbusd/'"
   ]
  },
  {
   "attachments": {},
   "cell_type": "markdown",
   "metadata": {},
   "source": [
    "### Helper functions"
   ]
  },
  {
   "cell_type": "code",
   "execution_count": 3,
   "metadata": {},
   "outputs": [],
   "source": [
    "def flatten(state):\n",
    "    \"\"\"Returns flattened state\"\"\"\n",
    "    state = np.concatenate((state[0].flatten(), [state[1]], [state[2]]))\n",
    "    return np.reshape(state, (1, -1))"
   ]
  },
  {
   "cell_type": "code",
   "execution_count": 4,
   "metadata": {},
   "outputs": [],
   "source": [
    "from random import shuffle\n",
    "\n",
    "lastDayofMonth = {\n",
    "    1: 31,\n",
    "    2: 28,\n",
    "    3: 31,\n",
    "    4: 30,\n",
    "    5: 31,\n",
    "    6: 30,\n",
    "    7: 31,\n",
    "    8: 31,\n",
    "    9: 30,\n",
    "    10: 31,\n",
    "    11: 30,\n",
    "    12: 31\n",
    "}\n",
    "\n",
    "\n",
    "def shuffleDates(startDate, endDate, multi=1):\n",
    "    \"\"\"Generates an array of shuffle dates, each date is inserted for multiple times\"\"\"\n",
    "    datesList = []\n",
    "    count = startDate\n",
    "    delta = timedelta(days=1)\n",
    "    while (count != endDate + delta):\n",
    "        # Due to bugs in binance data, we don't add the first and last date of a month\n",
    "        if (count.day != 1 and not(count.day >= lastDayofMonth[count.month])):\n",
    "            for i in range(multi):\n",
    "                datesList.append(count)\n",
    "        count += delta\n",
    "\n",
    "    shuffle(datesList)\n",
    "\n",
    "    return datesList\n"
   ]
  },
  {
   "cell_type": "code",
   "execution_count": 5,
   "metadata": {},
   "outputs": [],
   "source": [
    "actionMap = {\n",
    "    0: 0,\n",
    "    1: 10,\n",
    "    2: 50,\n",
    "    3: 100,\n",
    "    4: -10,\n",
    "    5: -50,\n",
    "    6: -100\n",
    "}"
   ]
  },
  {
   "attachments": {},
   "cell_type": "markdown",
   "metadata": {},
   "source": [
    "## Main Training Loop"
   ]
  },
  {
   "cell_type": "code",
   "execution_count": 6,
   "metadata": {},
   "outputs": [
    {
     "name": "stdout",
     "output_type": "stream",
     "text": [
      "Training for 909 episodes\n",
      "\n",
      "Episode (2021-09-17): 0/909, epsilon:1.0000\n",
      "Final BTC: 0.00587, BUSD: 723.95700, Total Value: $1002.588, profit: 0.26%\n",
      "\n",
      "Episode (2020-12-16): 1/909, epsilon:1.0000\n",
      "Final BTC: 0.05182, BUSD: 0.00000, Total Value: $1022.816, profit: 2.28%\n",
      "\n",
      "Episode (2020-12-09): 2/909, epsilon:1.0000\n",
      "Final BTC: 0.03555, BUSD: 330.00000, Total Value: $978.651, profit: -2.13%\n",
      "\n",
      "Episode (2020-12-24): 3/909, epsilon:1.0000\n",
      "Final BTC: 0.01232, BUSD: 690.00000, Total Value: $975.948, profit: -2.41%\n",
      "\n",
      "Episode (2021-05-05): 4/909, epsilon:1.0000\n",
      "Final BTC: 0.00483, BUSD: 740.00000, Total Value: $1006.324, profit: 0.63%\n",
      "\n",
      "Episode (2022-01-13): 5/909, epsilon:1.0000\n",
      "Final BTC: 0.01413, BUSD: 388.40902, Total Value: $1005.421, profit: 0.54%\n",
      "Training 100.0%\n",
      "\n",
      "Episode (2022-01-03): 6/909, epsilon:0.9900\n",
      "Final BTC: 0.02121, BUSD: 0.00000, Total Value: $1005.138, profit: 0.51%\n",
      "\n",
      "Episode (2022-03-04): 7/909, epsilon:0.9900\n",
      "Final BTC: 0.01630, BUSD: 310.00000, Total Value: $988.918, profit: -1.11%\n",
      "\n",
      "Episode (2021-01-09): 8/909, epsilon:0.9900\n",
      "Final BTC: 0.02338, BUSD: 20.00000, Total Value: $968.286, profit: -3.17%\n",
      "\n",
      "Episode (2020-06-18): 9/909, epsilon:0.9900\n",
      "Final BTC: 0.08387, BUSD: 200.00000, Total Value: $989.834, profit: -1.02%\n",
      "\n",
      "Episode (2020-12-18): 10/909, epsilon:0.9900\n",
      "Final BTC: 0.00044, BUSD: 973.73237, Total Value: $983.732, profit: -1.63%\n",
      "Training 48.4%\r"
     ]
    }
   ],
   "source": [
    "episodes = shuffleDates(startDate, endDate)\n",
    "print(f\"Training for {len(episodes)} episodes\")\n",
    "\n",
    "targetNetwork = clone_model(agent.model)\n",
    "targetNetwork.set_weights(agent.model.get_weights())\n",
    "\n",
    "for i, e in enumerate(episodes):\n",
    "    print(f\"\\nEpisode ({e}): \", end=\"\")\n",
    "    state = env.reset(e)\n",
    "    state = flatten(state)\n",
    "\n",
    "    done = False\n",
    "    while not done:\n",
    "        # Trains for 1440 timesteps per episode\n",
    "        action = agent.act(state)\n",
    "        nextState, done, reward, value = env.step(actionMap[action])\n",
    "        nextState = flatten(nextState)\n",
    "        agent.remember(state, action, nextState, done, reward)\n",
    "        state = nextState\n",
    "        if done:\n",
    "            profitPercent = (value - 1000) / 1000 * 100\n",
    "            print(f\"{i}/{len(episodes)}, epsilon:{agent.epsilon:.4f}\")\n",
    "            print(\n",
    "                f\"Final BTC: {nextState[0,CryptoEnv.stateLen * 5 + 0]:.5f}, BUSD: {nextState[0,CryptoEnv.stateLen * 5 + 1]:.5f}, Total Value: ${value:.3f}, profit: {profitPercent:.2f}%\")\n",
    "            scoreArr.append(value)\n",
    "\n",
    "    if i > 0:\n",
    "        # Only train once in a while\n",
    "        # Speed up training process by gathering more data first\n",
    "        if i % 5 == 0:\n",
    "            agent.train(batchSize, targetNetwork)\n",
    "\n",
    "        # Update DQN target\n",
    "        if i % 25 == 0:\n",
    "            targetNetwork.set_weights(agent.model.get_weights())\n",
    "\n",
    "        if i % 150 == 0:\n",
    "            agent.save(output_dir + f\"weights_{i:04d}.hdf5\")\n",
    "\n",
    "agent.save(output_dir + f\"weights_final.hdf5\")\n"
   ]
  },
  {
   "cell_type": "code",
   "execution_count": null,
   "metadata": {},
   "outputs": [],
   "source": []
  }
 ],
 "metadata": {
  "kernelspec": {
   "display_name": "Python 3",
   "language": "python",
   "name": "python3"
  },
  "language_info": {
   "codemirror_mode": {
    "name": "ipython",
    "version": 3
   },
   "file_extension": ".py",
   "mimetype": "text/x-python",
   "name": "python",
   "nbconvert_exporter": "python",
   "pygments_lexer": "ipython3",
   "version": "3.10.4"
  },
  "orig_nbformat": 4,
  "vscode": {
   "interpreter": {
    "hash": "369f2c481f4da34e4445cda3fffd2e751bd1c4d706f27375911949ba6bb62e1c"
   }
  }
 },
 "nbformat": 4,
 "nbformat_minor": 2
}
