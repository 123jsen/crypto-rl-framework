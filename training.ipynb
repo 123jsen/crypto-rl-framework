{
 "cells": [
  {
   "attachments": {},
   "cell_type": "markdown",
   "metadata": {},
   "source": [
    "## Training Notebook\n",
    "Code to train the agent"
   ]
  },
  {
   "cell_type": "code",
   "execution_count": null,
   "metadata": {},
   "outputs": [],
   "source": [
    "import numpy as np\n",
    "from agent import Agent\n",
    "from environment import CryptoEnv\n",
    "from datetime import date, timedelta"
   ]
  },
  {
   "cell_type": "code",
   "execution_count": null,
   "metadata": {},
   "outputs": [],
   "source": [
    "agent = Agent()\n",
    "env = CryptoEnv()\n",
    "\n",
    "batchSize = 32\n",
    "startDate = date(2019, 10, 1)\n",
    "endDate = date(2022, 5, 31)\n",
    "scoreArr = []\n",
    "\n",
    "output_dir = 'model_output/btcbusd/'"
   ]
  },
  {
   "attachments": {},
   "cell_type": "markdown",
   "metadata": {},
   "source": [
    "### Helper functions"
   ]
  },
  {
   "cell_type": "code",
   "execution_count": null,
   "metadata": {},
   "outputs": [],
   "source": [
    "def flatten(state):\n",
    "    \"\"\"Returns flattened state\"\"\"\n",
    "    state = np.concatenate((state[0].flatten(), [state[1]], [state[2]]))\n",
    "    return np.reshape(state, (1, -1))"
   ]
  },
  {
   "cell_type": "code",
   "execution_count": null,
   "metadata": {},
   "outputs": [],
   "source": [
    "from random import shuffle\n",
    "\n",
    "lastDayofMonth = {\n",
    "    1: 31,\n",
    "    2: 28,\n",
    "    3: 31,\n",
    "    4: 30,\n",
    "    5: 31,\n",
    "    6: 30,\n",
    "    7: 31,\n",
    "    8: 31,\n",
    "    9: 30,\n",
    "    10: 31,\n",
    "    11: 30,\n",
    "    12: 31\n",
    "}\n",
    "\n",
    "\n",
    "def shuffleDates(startDate, endDate, multi=1):\n",
    "    \"\"\"Generates an array of shuffle dates, each date is inserted for multiple times\"\"\"\n",
    "    datesList = []\n",
    "    count = startDate\n",
    "    delta = timedelta(days=1)\n",
    "    while (count != endDate + delta):\n",
    "        # Due to bugs in binance data, we don't add the first and last date of a month\n",
    "        if (count.day != 1 and not(count.day >= lastDayofMonth[count.month])):\n",
    "            for i in range(multi):\n",
    "                datesList.append(count)\n",
    "        count += delta\n",
    "\n",
    "    shuffle(datesList)\n",
    "\n",
    "    return datesList\n"
   ]
  },
  {
   "cell_type": "code",
   "execution_count": null,
   "metadata": {},
   "outputs": [],
   "source": [
    "actionMap = {\n",
    "    0: 0,\n",
    "    1: 10,\n",
    "    2: 50,\n",
    "    3: 100,\n",
    "    4: -10,\n",
    "    5: -50,\n",
    "    6: -100\n",
    "}"
   ]
  },
  {
   "attachments": {},
   "cell_type": "markdown",
   "metadata": {},
   "source": [
    "## Main Training Loop"
   ]
  },
  {
   "cell_type": "code",
   "execution_count": null,
   "metadata": {},
   "outputs": [],
   "source": [
    "# We will iterate over the shuffled 1948 training days (see README)\n",
    "\n",
    "episodes = shuffleDates(startDate, endDate)\n",
    "print(f\"Training for {len(episodes)} episodes\")\n",
    "\n",
    "for i, e in enumerate(episodes):\n",
    "    print(f\"\\nEpisode ({e}): \", end=\"\")\n",
    "    state = env.reset(e)\n",
    "    state = flatten(state)\n",
    "\n",
    "    done = False\n",
    "    while not done:\n",
    "        # Trains for 1440 timesteps per episode\n",
    "        action = agent.act(state)\n",
    "        nextState, done, reward, value = env.step(actionMap[action])\n",
    "        nextState = flatten(nextState)\n",
    "        agent.remember(state, action, nextState, done, reward)\n",
    "        state = nextState\n",
    "        if done:\n",
    "            profitPercent = (value - 1000) / 1000 * 100\n",
    "            print(f\"{i}/{len(episodes)}, epsilon:{agent.epsilon:.4f}\")\n",
    "            print(\n",
    "                f\"Final BTC: {nextState[0,1440 * 5 + 0]:.5f}, BUSD: {nextState[0,1440 * 5 + 1]:.5f}, Total Value: ${value:.3f}, profit: {profitPercent:.2f}%\")\n",
    "            scoreArr.append(value)\n",
    "\n",
    "    if len(agent.memory) > batchSize:\n",
    "        agent.train(batchSize)\n",
    "\n",
    "    if i % 200 == 0:\n",
    "        agent.save(output_dir + f\"weights_{i:04d}.hdf5\")\n",
    "\n",
    "agent.save(output_dir + f\"weights_final.hdf5\")\n"
   ]
  },
  {
   "cell_type": "code",
   "execution_count": null,
   "metadata": {},
   "outputs": [],
   "source": []
  }
 ],
 "metadata": {
  "kernelspec": {
   "display_name": "Python 3",
   "language": "python",
   "name": "python3"
  },
  "language_info": {
   "codemirror_mode": {
    "name": "ipython",
    "version": 3
   },
   "file_extension": ".py",
   "mimetype": "text/x-python",
   "name": "python",
   "nbconvert_exporter": "python",
   "pygments_lexer": "ipython3",
   "version": "3.10.4"
  },
  "orig_nbformat": 4,
  "vscode": {
   "interpreter": {
    "hash": "369f2c481f4da34e4445cda3fffd2e751bd1c4d706f27375911949ba6bb62e1c"
   }
  }
 },
 "nbformat": 4,
 "nbformat_minor": 2
}
