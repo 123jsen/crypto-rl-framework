{
 "cells": [
  {
   "attachments": {},
   "cell_type": "markdown",
   "metadata": {},
   "source": [
    "## Training Notebook\n",
    "Code to train the agent"
   ]
  },
  {
   "cell_type": "code",
   "execution_count": 1,
   "metadata": {},
   "outputs": [],
   "source": [
    "import numpy as np\n",
    "from agent import Agent\n",
    "from environment import CryptoEnv\n",
    "from datetime import date, timedelta"
   ]
  },
  {
   "cell_type": "code",
   "execution_count": 2,
   "metadata": {},
   "outputs": [],
   "source": [
    "agent = Agent(epsilonDecay=0.9995)\n",
    "env = CryptoEnv()\n",
    "\n",
    "batchSize = 64\n",
    "startDate = date(2019, 10, 1)\n",
    "endDate = date(2022, 5, 31)\n",
    "scoreArr = []"
   ]
  },
  {
   "attachments": {},
   "cell_type": "markdown",
   "metadata": {},
   "source": [
    "### Helper functions"
   ]
  },
  {
   "cell_type": "code",
   "execution_count": 3,
   "metadata": {},
   "outputs": [],
   "source": [
    "def flatten(state):\n",
    "    \"\"\"Returns flattened state\"\"\"\n",
    "    state = np.concatenate((state[0].flatten(), [state[1]], [state[2]]))\n",
    "    return np.reshape(state, (1, -1))"
   ]
  },
  {
   "cell_type": "code",
   "execution_count": 4,
   "metadata": {},
   "outputs": [
    {
     "ename": "IndentationError",
     "evalue": "expected an indented block after 'if' statement on line 26 (2452581194.py, line 27)",
     "output_type": "error",
     "traceback": [
      "\u001b[1;36m  Input \u001b[1;32mIn [4]\u001b[1;36m\u001b[0m\n\u001b[1;33m    for i in range(multi):\u001b[0m\n\u001b[1;37m    ^\u001b[0m\n\u001b[1;31mIndentationError\u001b[0m\u001b[1;31m:\u001b[0m expected an indented block after 'if' statement on line 26\n"
     ]
    }
   ],
   "source": [
    "from random import shuffle\n",
    "\n",
    "lastDayofMonth = {\n",
    "    1: 31,\n",
    "    2: 28,\n",
    "    3: 31,\n",
    "    4: 30,\n",
    "    5: 31,\n",
    "    6: 30,\n",
    "    7: 31,\n",
    "    8: 31,\n",
    "    9: 30,\n",
    "    10: 31,\n",
    "    11: 30,\n",
    "    12: 31\n",
    "}\n",
    "\n",
    "\n",
    "def shuffleDates(startDate, endDate, multi=1):\n",
    "    \"\"\"Generates an array of shuffle dates, each date is inserted for multiple times\"\"\"\n",
    "    datesList = []\n",
    "    count = startDate\n",
    "    delta = timedelta(days=1)\n",
    "    while (count != endDate + delta):\n",
    "        # Due to bugs in binance data, we don't add the first and last date of a month\n",
    "        if (count.day != 1 and not(count.day >= lastDayofMonth[count.month])):\n",
    "            for i in range(multi):\n",
    "                datesList.append(count)\n",
    "        count += delta\n",
    "\n",
    "    shuffle(datesList)\n",
    "\n",
    "    return datesList\n"
   ]
  },
  {
   "cell_type": "code",
   "execution_count": null,
   "metadata": {},
   "outputs": [],
   "source": [
    "actionMap = {\n",
    "    0: 0,\n",
    "    1: 10,\n",
    "    2: 50,\n",
    "    3: 100,\n",
    "    4: -10,\n",
    "    5: -50,\n",
    "    6: -100\n",
    "}"
   ]
  },
  {
   "attachments": {},
   "cell_type": "markdown",
   "metadata": {},
   "source": [
    "## Main Training Loop"
   ]
  },
  {
   "cell_type": "code",
   "execution_count": null,
   "metadata": {},
   "outputs": [
    {
     "name": "stdout",
     "output_type": "stream",
     "text": [
      "Training for 1948 episodes\n",
      "Episode: 2019-10-08 :0/1948, epsilon:1.00\n",
      "final BTC: 0.103666523640776, final BUSD: 150.0, final value: 998.57, profit: -0.14%\n",
      "Episode: 2021-12-19 :1/1948, epsilon:0.97\n",
      "final BTC: 0.014007862378640355, final BUSD: 340.0, final value: 994.15, profit: -0.58%\n",
      "Episode: 2022-01-13 :2/1948, epsilon:0.94\n",
      "final BTC: 0.007967344266369887, final BUSD: 645.2159380532745, final value: 984.39, profit: -1.56%\n",
      "Episode: 2021-05-15 :3/1948, epsilon:0.91\n",
      "final BTC: 0.019209474663532258, final BUSD: 50.0, final value: 948.82, profit: -5.12%\n",
      "Episode: 2022-04-16 :4/1948, epsilon:0.88\n",
      "final BTC: 0.024691588576638578, final BUSD: 0.0, final value: 997.20, profit: -0.28%\n",
      "Episode: 2020-09-04 :5/1948, epsilon:0.85\n",
      "final BTC: 0.029117485140327644, final BUSD: 691.7054755832003, final value: 996.13, profit: -0.39%\n",
      "Episode: 2020-04-01 :"
     ]
    },
    {
     "ename": "AssertionError",
     "evalue": "",
     "output_type": "error",
     "traceback": [
      "\u001b[1;31m---------------------------------------------------------------------------\u001b[0m",
      "\u001b[1;31mAssertionError\u001b[0m                            Traceback (most recent call last)",
      "\u001b[1;32md:\\GitHub-Projects\\crypto-rl-framework\\training.ipynb Cell 9\u001b[0m in \u001b[0;36m<cell line: 6>\u001b[1;34m()\u001b[0m\n\u001b[0;32m      <a href='vscode-notebook-cell:/d%3A/GitHub-Projects/crypto-rl-framework/training.ipynb#W4sZmlsZQ%3D%3D?line=5'>6</a>\u001b[0m \u001b[39mfor\u001b[39;00m i, e \u001b[39min\u001b[39;00m \u001b[39menumerate\u001b[39m(episodes):\n\u001b[0;32m      <a href='vscode-notebook-cell:/d%3A/GitHub-Projects/crypto-rl-framework/training.ipynb#W4sZmlsZQ%3D%3D?line=6'>7</a>\u001b[0m     \u001b[39mprint\u001b[39m(\u001b[39mf\u001b[39m\u001b[39m\"\u001b[39m\u001b[39mEpisode: \u001b[39m\u001b[39m{\u001b[39;00me\u001b[39m}\u001b[39;00m\u001b[39m :\u001b[39m\u001b[39m\"\u001b[39m, end\u001b[39m=\u001b[39m\u001b[39m\"\u001b[39m\u001b[39m\"\u001b[39m)\n\u001b[1;32m----> <a href='vscode-notebook-cell:/d%3A/GitHub-Projects/crypto-rl-framework/training.ipynb#W4sZmlsZQ%3D%3D?line=7'>8</a>\u001b[0m     state \u001b[39m=\u001b[39m env\u001b[39m.\u001b[39;49mreset(e)\n\u001b[0;32m      <a href='vscode-notebook-cell:/d%3A/GitHub-Projects/crypto-rl-framework/training.ipynb#W4sZmlsZQ%3D%3D?line=8'>9</a>\u001b[0m     state \u001b[39m=\u001b[39m flatten(state)\n\u001b[0;32m     <a href='vscode-notebook-cell:/d%3A/GitHub-Projects/crypto-rl-framework/training.ipynb#W4sZmlsZQ%3D%3D?line=10'>11</a>\u001b[0m     done \u001b[39m=\u001b[39m \u001b[39mFalse\u001b[39;00m\n",
      "File \u001b[1;32md:\\GitHub-Projects\\crypto-rl-framework\\environment.py:21\u001b[0m, in \u001b[0;36mCryptoEnv.reset\u001b[1;34m(self, targetDate)\u001b[0m\n\u001b[0;32m     18\u001b[0m \u001b[39mself\u001b[39m\u001b[39m.\u001b[39mBUSD \u001b[39m=\u001b[39m \u001b[39m1000\u001b[39m\n\u001b[0;32m     20\u001b[0m delta \u001b[39m=\u001b[39m timedelta(days\u001b[39m=\u001b[39m\u001b[39m1\u001b[39m)\n\u001b[1;32m---> 21\u001b[0m \u001b[39mself\u001b[39m\u001b[39m.\u001b[39mdata \u001b[39m=\u001b[39m np\u001b[39m.\u001b[39mconcatenate((CryptoEnv\u001b[39m.\u001b[39;49mloadByDate(targetDate \u001b[39m-\u001b[39;49m delta),\n\u001b[0;32m     22\u001b[0m                            CryptoEnv\u001b[39m.\u001b[39mloadByDate(targetDate)))\n\u001b[0;32m     24\u001b[0m priceState \u001b[39m=\u001b[39m \u001b[39mself\u001b[39m\u001b[39m.\u001b[39mdata[\u001b[39mself\u001b[39m\u001b[39m.\u001b[39mtime:EPISODE_LEN\u001b[39m+\u001b[39m\u001b[39mself\u001b[39m\u001b[39m.\u001b[39mtime]\n\u001b[0;32m     25\u001b[0m \u001b[39mreturn\u001b[39;00m (priceState, \u001b[39mself\u001b[39m\u001b[39m.\u001b[39mBTC, \u001b[39mself\u001b[39m\u001b[39m.\u001b[39mBUSD)\n",
      "File \u001b[1;32md:\\GitHub-Projects\\crypto-rl-framework\\environment.py:70\u001b[0m, in \u001b[0;36mCryptoEnv.loadByDate\u001b[1;34m(targetDate)\u001b[0m\n\u001b[0;32m     67\u001b[0m startIndex \u001b[39m=\u001b[39m (targetDate\u001b[39m.\u001b[39mday \u001b[39m-\u001b[39m \u001b[39m1\u001b[39m) \u001b[39m*\u001b[39m \u001b[39m60\u001b[39m \u001b[39m*\u001b[39m \u001b[39m24\u001b[39m\n\u001b[0;32m     68\u001b[0m endIndex \u001b[39m=\u001b[39m targetDate\u001b[39m.\u001b[39mday \u001b[39m*\u001b[39m \u001b[39m60\u001b[39m \u001b[39m*\u001b[39m \u001b[39m24\u001b[39m\n\u001b[1;32m---> 70\u001b[0m \u001b[39massert\u001b[39;00m(endIndex \u001b[39m<\u001b[39m \u001b[39mlen\u001b[39m(data) \u001b[39m+\u001b[39m \u001b[39m1\u001b[39m)  \u001b[39m# end index is inside\u001b[39;00m\n\u001b[0;32m     72\u001b[0m \u001b[39mreturn\u001b[39;00m data[startIndex:endIndex]\n",
      "\u001b[1;31mAssertionError\u001b[0m: "
     ]
    }
   ],
   "source": [
    "# We will iterate over the shuffled 1948 training days (see README)\n",
    "\n",
    "episodes = shuffleDates(startDate, endDate)\n",
    "print(f\"Training for {len(episodes)} episodes\")\n",
    "\n",
    "for i, e in enumerate(episodes):\n",
    "    print(f\"Episode: {e} :\", end=\"\")\n",
    "    state = env.reset(e)\n",
    "    state = flatten(state)\n",
    "\n",
    "    done = False\n",
    "    while not done:\n",
    "        # Trains for 1440 timesteps per episode\n",
    "        action = agent.act(state)\n",
    "        nextState, done, reward, value = env.step(actionMap[action])\n",
    "        nextState = flatten(nextState)\n",
    "        agent.remember(state, action, nextState, done, reward)\n",
    "        state = nextState\n",
    "        if done:\n",
    "            profitPercent = (value - 1000) / 1000 * 100\n",
    "            print(f\"{i}/{len(episodes)}, epsilon:{agent.epsilon:.2f}\")\n",
    "            print(\n",
    "                f\"final BTC: {nextState[0,1440 * 5 + 0]}, final BUSD: {nextState[0,1440 * 5 + 1]}, final value: {value:.2f}, profit: {profitPercent:.2f}%\")\n",
    "            scoreArr.append(value)\n",
    "\n",
    "    if len(agent.memory) > batchSize:\n",
    "        agent.train(batchSize)\n"
   ]
  },
  {
   "cell_type": "code",
   "execution_count": null,
   "metadata": {},
   "outputs": [],
   "source": []
  }
 ],
 "metadata": {
  "kernelspec": {
   "display_name": "Python 3",
   "language": "python",
   "name": "python3"
  },
  "language_info": {
   "codemirror_mode": {
    "name": "ipython",
    "version": 3
   },
   "file_extension": ".py",
   "mimetype": "text/x-python",
   "name": "python",
   "nbconvert_exporter": "python",
   "pygments_lexer": "ipython3",
   "version": "3.10.4"
  },
  "orig_nbformat": 4,
  "vscode": {
   "interpreter": {
    "hash": "369f2c481f4da34e4445cda3fffd2e751bd1c4d706f27375911949ba6bb62e1c"
   }
  }
 },
 "nbformat": 4,
 "nbformat_minor": 2
}
