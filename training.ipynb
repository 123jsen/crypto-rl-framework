{
 "cells": [
  {
   "attachments": {},
   "cell_type": "markdown",
   "metadata": {},
   "source": [
    "## Training Notebook\n",
    "Code to train the agent"
   ]
  },
  {
   "cell_type": "code",
   "execution_count": 1,
   "metadata": {},
   "outputs": [],
   "source": [
    "import numpy as np\n",
    "from agent import Agent\n",
    "from environment import CryptoEnv\n",
    "from datetime import date, timedelta"
   ]
  },
  {
   "cell_type": "code",
   "execution_count": 2,
   "metadata": {},
   "outputs": [],
   "source": [
    "agent = Agent()\n",
    "env = CryptoEnv()\n",
    "\n",
    "batchSize = 64\n",
    "startDate = date(2019, 10, 1)\n",
    "endDate = date(2022, 5, 31)\n",
    "scoreArr = []\n",
    "\n",
    "output_dir = 'model_output/btcbusd/'"
   ]
  },
  {
   "attachments": {},
   "cell_type": "markdown",
   "metadata": {},
   "source": [
    "### Helper functions"
   ]
  },
  {
   "cell_type": "code",
   "execution_count": 3,
   "metadata": {},
   "outputs": [],
   "source": [
    "def flatten(state):\n",
    "    \"\"\"Returns flattened state\"\"\"\n",
    "    state = np.concatenate((state[0].flatten(), [state[1]], [state[2]]))\n",
    "    return np.reshape(state, (1, -1))"
   ]
  },
  {
   "cell_type": "code",
   "execution_count": 4,
   "metadata": {},
   "outputs": [],
   "source": [
    "from random import shuffle\n",
    "\n",
    "lastDayofMonth = {\n",
    "    1: 31,\n",
    "    2: 28,\n",
    "    3: 31,\n",
    "    4: 30,\n",
    "    5: 31,\n",
    "    6: 30,\n",
    "    7: 31,\n",
    "    8: 31,\n",
    "    9: 30,\n",
    "    10: 31,\n",
    "    11: 30,\n",
    "    12: 31\n",
    "}\n",
    "\n",
    "\n",
    "def shuffleDates(startDate, endDate, multi=1):\n",
    "    \"\"\"Generates an array of shuffle dates, each date is inserted for multiple times\"\"\"\n",
    "    datesList = []\n",
    "    count = startDate\n",
    "    delta = timedelta(days=1)\n",
    "    while (count != endDate + delta):\n",
    "        # Due to bugs in binance data, we don't add the first and last date of a month\n",
    "        if (count.day != 1 and not(count.day >= lastDayofMonth[count.month])):\n",
    "            for i in range(multi):\n",
    "                datesList.append(count)\n",
    "        count += delta\n",
    "\n",
    "    shuffle(datesList)\n",
    "\n",
    "    return datesList\n"
   ]
  },
  {
   "cell_type": "code",
   "execution_count": 5,
   "metadata": {},
   "outputs": [],
   "source": [
    "actionMap = {\n",
    "    0: 0,\n",
    "    1: 10,\n",
    "    2: 50,\n",
    "    3: 100,\n",
    "    4: -10,\n",
    "    5: -50,\n",
    "    6: -100\n",
    "}"
   ]
  },
  {
   "attachments": {},
   "cell_type": "markdown",
   "metadata": {},
   "source": [
    "## Main Training Loop"
   ]
  },
  {
   "cell_type": "code",
   "execution_count": 6,
   "metadata": {},
   "outputs": [
    {
     "name": "stdout",
     "output_type": "stream",
     "text": [
      "Training for 909 episodes\n",
      "Episode (2021-08-11): 0/909, epsilon:1.0000\n",
      "Final BTC: 0.01851, BUSD: 154.58799, Total Value: $997.224, profit: -0.28%\n",
      "Episode (2021-10-26): 1/909, epsilon:0.9685\n",
      "Final BTC: 0.00958, BUSD: 421.92077, Total Value: $999.545, profit: -0.05%\n",
      "Episode (2021-04-02): 2/909, epsilon:0.9380\n",
      "Final BTC: 0.00000, BUSD: 1001.77765, Total Value: $1001.778, profit: 0.18%\n",
      "Episode (2020-04-13): 3/909, epsilon:0.9084\n",
      "Final BTC: 0.08035, BUSD: 454.90302, Total Value: $1005.737, profit: 0.57%\n",
      "Episode (2022-05-23): 4/909, epsilon:0.8798\n",
      "Final BTC: 0.00481, BUSD: 854.25761, Total Value: $994.208, profit: -0.58%\n",
      "Episode (2020-08-08): 5/909, epsilon:0.8521\n",
      "Final BTC: 0.02810, BUSD: 667.44544, Total Value: $998.144, profit: -0.19%\n",
      "Episode (2019-12-08): 6/909, epsilon:0.8253\n",
      "Final BTC: 0.07535, BUSD: 440.00000, Total Value: $1006.516, profit: 0.65%\n",
      "Episode (2021-06-28): 7/909, epsilon:0.7993\n",
      "Final BTC: 0.01825, BUSD: 360.00000, Total Value: $989.460, profit: -1.05%\n",
      "Episode (2020-12-03): 8/909, epsilon:0.7741\n",
      "Final BTC: 0.02388, BUSD: 540.00000, Total Value: $1004.170, profit: 0.42%\n",
      "Episode (2022-03-15): 9/909, epsilon:0.7497\n",
      "Final BTC: 0.02322, BUSD: 90.00000, Total Value: $1002.390, profit: 0.24%\n",
      "Episode (2020-08-11): 10/909, epsilon:0.7261\n",
      "Final BTC: 0.03670, BUSD: 570.00000, Total Value: $987.911, profit: -1.21%\n",
      "Episode (2019-10-18): 11/909, epsilon:0.7032\n",
      "Final BTC: 0.11037, BUSD: 110.00000, Total Value: $987.685, profit: -1.23%\n",
      "Episode (2020-04-11): 12/909, epsilon:0.6811\n",
      "Final BTC: 0.02061, BUSD: 860.00000, Total Value: $1001.895, profit: 0.19%\n",
      "Episode (2020-06-23): 13/909, epsilon:0.6596\n",
      "Final BTC: 0.07389, BUSD: 284.40368, Total Value: $995.356, profit: -0.46%\n",
      "Episode (2020-09-03): "
     ]
    }
   ],
   "source": [
    "# We will iterate over the shuffled 1948 training days (see README)\n",
    "\n",
    "episodes = shuffleDates(startDate, endDate)\n",
    "print(f\"Training for {len(episodes)} episodes\")\n",
    "\n",
    "for i, e in enumerate(episodes):\n",
    "    print(f\"Episode ({e}): \", end=\"\")\n",
    "    state = env.reset(e)\n",
    "    state = flatten(state)\n",
    "\n",
    "    done = False\n",
    "    while not done:\n",
    "        # Trains for 1440 timesteps per episode\n",
    "        action = agent.act(state)\n",
    "        nextState, done, reward, value = env.step(actionMap[action])\n",
    "        nextState = flatten(nextState)\n",
    "        agent.remember(state, action, nextState, done, reward)\n",
    "        state = nextState\n",
    "        if done:\n",
    "            profitPercent = (value - 1000) / 1000 * 100\n",
    "            print(f\"{i}/{len(episodes)}, epsilon:{agent.epsilon:.4f}\")\n",
    "            print(\n",
    "                f\"Final BTC: {nextState[0,1440 * 5 + 0]:.5f}, BUSD: {nextState[0,1440 * 5 + 1]:.5f}, Total Value: ${value:.3f}, profit: {profitPercent:.2f}%\")\n",
    "            scoreArr.append(value)\n",
    "\n",
    "    if len(agent.memory) > batchSize:\n",
    "        agent.train(batchSize)\n",
    "\n",
    "    if i % 50 == 0:\n",
    "        agent.save(output_dir + f\"weights_{i:04d}.hdf5\")\n"
   ]
  },
  {
   "cell_type": "code",
   "execution_count": null,
   "metadata": {},
   "outputs": [],
   "source": []
  }
 ],
 "metadata": {
  "kernelspec": {
   "display_name": "Python 3",
   "language": "python",
   "name": "python3"
  },
  "language_info": {
   "codemirror_mode": {
    "name": "ipython",
    "version": 3
   },
   "file_extension": ".py",
   "mimetype": "text/x-python",
   "name": "python",
   "nbconvert_exporter": "python",
   "pygments_lexer": "ipython3",
   "version": "3.10.4"
  },
  "orig_nbformat": 4,
  "vscode": {
   "interpreter": {
    "hash": "369f2c481f4da34e4445cda3fffd2e751bd1c4d706f27375911949ba6bb62e1c"
   }
  }
 },
 "nbformat": 4,
 "nbformat_minor": 2
}
