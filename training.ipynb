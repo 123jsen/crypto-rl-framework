{
 "cells": [
  {
   "attachments": {},
   "cell_type": "markdown",
   "metadata": {},
   "source": [
    "## Training Notebook\n",
    "Code to train the agent"
   ]
  },
  {
   "cell_type": "code",
   "execution_count": 1,
   "metadata": {},
   "outputs": [],
   "source": [
    "import numpy as np\n",
    "from agent import Agent\n",
    "from environment import CryptoEnv\n",
    "from datetime import date, timedelta\n",
    "from keras.models import clone_model"
   ]
  },
  {
   "cell_type": "code",
   "execution_count": 2,
   "metadata": {},
   "outputs": [],
   "source": [
    "agent = Agent(epsilonDecay=0.99)\n",
    "env = CryptoEnv()\n",
    "\n",
    "batchSize = 128\n",
    "startDate = date(2019, 10, 1)\n",
    "endDate = date(2022, 5, 31)\n",
    "scoreArr = []\n",
    "\n",
    "output_dir = 'model_output/btcbusd/'"
   ]
  },
  {
   "attachments": {},
   "cell_type": "markdown",
   "metadata": {},
   "source": [
    "### Helper functions"
   ]
  },
  {
   "cell_type": "code",
   "execution_count": 3,
   "metadata": {},
   "outputs": [],
   "source": [
    "def flatten(state):\n",
    "    \"\"\"Returns flattened state\"\"\"\n",
    "    state = np.concatenate((state[0].flatten(), [state[1]], [state[2]]))\n",
    "    return np.reshape(state, (1, -1))"
   ]
  },
  {
   "cell_type": "code",
   "execution_count": 4,
   "metadata": {},
   "outputs": [],
   "source": [
    "from random import shuffle\n",
    "\n",
    "lastDayofMonth = {\n",
    "    1: 31,\n",
    "    2: 28,\n",
    "    3: 31,\n",
    "    4: 30,\n",
    "    5: 31,\n",
    "    6: 30,\n",
    "    7: 31,\n",
    "    8: 31,\n",
    "    9: 30,\n",
    "    10: 31,\n",
    "    11: 30,\n",
    "    12: 31\n",
    "}\n",
    "\n",
    "\n",
    "def shuffleDates(startDate, endDate, multi=1):\n",
    "    \"\"\"Generates an array of shuffle dates, each date is inserted for multiple times\"\"\"\n",
    "    datesList = []\n",
    "    count = startDate\n",
    "    delta = timedelta(days=1)\n",
    "    while (count != endDate + delta):\n",
    "        # Due to bugs in binance data, we don't add the first and last date of a month\n",
    "        if (count.day != 1 and not(count.day >= lastDayofMonth[count.month])):\n",
    "            for i in range(multi):\n",
    "                datesList.append(count)\n",
    "        count += delta\n",
    "\n",
    "    shuffle(datesList)\n",
    "\n",
    "    return datesList\n"
   ]
  },
  {
   "cell_type": "code",
   "execution_count": 5,
   "metadata": {},
   "outputs": [],
   "source": [
    "actionMap = {\n",
    "    0: 0,\n",
    "    1: 10,\n",
    "    2: 50,\n",
    "    3: 100,\n",
    "    4: -10,\n",
    "    5: -50,\n",
    "    6: -100\n",
    "}"
   ]
  },
  {
   "attachments": {},
   "cell_type": "markdown",
   "metadata": {},
   "source": [
    "## Main Training Loop"
   ]
  },
  {
   "cell_type": "code",
   "execution_count": 6,
   "metadata": {},
   "outputs": [
    {
     "name": "stdout",
     "output_type": "stream",
     "text": [
      "Training for 909 episodes\n",
      "\n",
      "Episode (2019-11-29): 0/909, epsilon:1.0000\n",
      "Final BTC: 0.12535, BUSD: 40.00000, Total Value: $1011.780, profit: 1.18%\n",
      "\n",
      "Episode (2022-05-30): 1/909, epsilon:1.0000\n",
      "Final BTC: 0.02967, BUSD: 120.00000, Total Value: $1027.985, profit: 2.80%\n",
      "\n",
      "Episode (2020-08-23): 2/909, epsilon:1.0000\n",
      "Final BTC: 0.01511, BUSD: 820.00000, Total Value: $994.255, profit: -0.57%\n",
      "\n",
      "Episode (2020-04-15): 3/909, epsilon:1.0000\n",
      "Final BTC: 0.01791, BUSD: 871.42604, Total Value: $992.920, profit: -0.71%\n",
      "\n",
      "Episode (2021-12-05): 4/909, epsilon:1.0000\n",
      "Final BTC: 0.01355, BUSD: 350.00000, Total Value: $1017.756, profit: 1.78%\n",
      "\n",
      "Episode (2022-03-25): 5/909, epsilon:1.0000\n",
      "Final BTC: 0.02293, BUSD: 0.00000, Total Value: $1023.992, profit: 2.40%\n",
      "Training 10.9%\r"
     ]
    },
    {
     "ename": "KeyboardInterrupt",
     "evalue": "",
     "output_type": "error",
     "traceback": [
      "\u001b[1;31m---------------------------------------------------------------------------\u001b[0m",
      "\u001b[1;31mKeyboardInterrupt\u001b[0m                         Traceback (most recent call last)",
      "\u001b[1;32md:\\GitHub-Projects\\crypto-rl-framework\\training.ipynb Cell 9\u001b[0m in \u001b[0;36m<cell line: 7>\u001b[1;34m()\u001b[0m\n\u001b[0;32m     <a href='vscode-notebook-cell:/d%3A/GitHub-Projects/crypto-rl-framework/training.ipynb#X23sZmlsZQ%3D%3D?line=35'>36</a>\u001b[0m \u001b[39mif\u001b[39;00m i \u001b[39m>\u001b[39m \u001b[39m0\u001b[39m:\n\u001b[0;32m     <a href='vscode-notebook-cell:/d%3A/GitHub-Projects/crypto-rl-framework/training.ipynb#X23sZmlsZQ%3D%3D?line=36'>37</a>\u001b[0m     \u001b[39m# Only train once in a while\u001b[39;00m\n\u001b[0;32m     <a href='vscode-notebook-cell:/d%3A/GitHub-Projects/crypto-rl-framework/training.ipynb#X23sZmlsZQ%3D%3D?line=37'>38</a>\u001b[0m     \u001b[39m# Speed up training process by gathering more data first\u001b[39;00m\n\u001b[0;32m     <a href='vscode-notebook-cell:/d%3A/GitHub-Projects/crypto-rl-framework/training.ipynb#X23sZmlsZQ%3D%3D?line=38'>39</a>\u001b[0m     \u001b[39mif\u001b[39;00m i \u001b[39m%\u001b[39m \u001b[39m5\u001b[39m \u001b[39m==\u001b[39m \u001b[39m0\u001b[39m:\n\u001b[1;32m---> <a href='vscode-notebook-cell:/d%3A/GitHub-Projects/crypto-rl-framework/training.ipynb#X23sZmlsZQ%3D%3D?line=39'>40</a>\u001b[0m         agent\u001b[39m.\u001b[39;49mtrain(batchSize, targetNetwork)\n\u001b[0;32m     <a href='vscode-notebook-cell:/d%3A/GitHub-Projects/crypto-rl-framework/training.ipynb#X23sZmlsZQ%3D%3D?line=41'>42</a>\u001b[0m     \u001b[39m# Update DQN target\u001b[39;00m\n\u001b[0;32m     <a href='vscode-notebook-cell:/d%3A/GitHub-Projects/crypto-rl-framework/training.ipynb#X23sZmlsZQ%3D%3D?line=42'>43</a>\u001b[0m     \u001b[39mif\u001b[39;00m i \u001b[39m%\u001b[39m \u001b[39m25\u001b[39m \u001b[39m==\u001b[39m \u001b[39m0\u001b[39m:\n",
      "File \u001b[1;32md:\\GitHub-Projects\\crypto-rl-framework\\agent.py:45\u001b[0m, in \u001b[0;36mAgent.train\u001b[1;34m(self, batchSize, targetNetwork)\u001b[0m\n\u001b[0;32m     41\u001b[0m \u001b[39mfor\u001b[39;00m i, (episodeDate, time, money, action, done, reward) \u001b[39min\u001b[39;00m \u001b[39menumerate\u001b[39m(minibatch):\n\u001b[0;32m     43\u001b[0m     delta \u001b[39m=\u001b[39m timedelta(days\u001b[39m=\u001b[39m\u001b[39m1\u001b[39m)\n\u001b[0;32m     44\u001b[0m     data \u001b[39m=\u001b[39m np\u001b[39m.\u001b[39mconcatenate((CryptoEnv\u001b[39m.\u001b[39mloadByDate(episodeDate \u001b[39m-\u001b[39m delta),\n\u001b[1;32m---> 45\u001b[0m                            CryptoEnv\u001b[39m.\u001b[39;49mloadByDate(episodeDate)))\n\u001b[0;32m     47\u001b[0m     state \u001b[39m=\u001b[39m (data[time:CryptoEnv\u001b[39m.\u001b[39mstateLen \u001b[39m+\u001b[39m time], money[\u001b[39m0\u001b[39m], money[\u001b[39m1\u001b[39m])\n\u001b[0;32m     48\u001b[0m     nextState \u001b[39m=\u001b[39m (data[time \u001b[39m+\u001b[39m \u001b[39m1\u001b[39m:CryptoEnv\u001b[39m.\u001b[39mstateLen \u001b[39m+\u001b[39m\n\u001b[0;32m     49\u001b[0m                  time \u001b[39m+\u001b[39m \u001b[39m1\u001b[39m], money[\u001b[39m2\u001b[39m], money[\u001b[39m3\u001b[39m])\n",
      "File \u001b[1;32md:\\GitHub-Projects\\crypto-rl-framework\\environment.py:70\u001b[0m, in \u001b[0;36mCryptoEnv.loadByDate\u001b[1;34m(targetDate)\u001b[0m\n\u001b[0;32m     67\u001b[0m \u001b[39m@staticmethod\u001b[39m\n\u001b[0;32m     68\u001b[0m \u001b[39mdef\u001b[39;00m \u001b[39mloadByDate\u001b[39m(targetDate: date):\n\u001b[0;32m     69\u001b[0m     \u001b[39m# Change this path name\u001b[39;00m\n\u001b[1;32m---> 70\u001b[0m     data \u001b[39m=\u001b[39m CryptoEnv\u001b[39m.\u001b[39;49mload(\n\u001b[0;32m     71\u001b[0m         \u001b[39mf\u001b[39;49m\u001b[39m\"\u001b[39;49m\u001b[39m./training-data/BTCBUSD-1m-\u001b[39;49m\u001b[39m{\u001b[39;49;00mtargetDate\u001b[39m.\u001b[39;49myear\u001b[39m}\u001b[39;49;00m\u001b[39m-\u001b[39;49m\u001b[39m{\u001b[39;49;00mtargetDate\u001b[39m.\u001b[39;49mmonth\u001b[39m:\u001b[39;49;00m\u001b[39m02\u001b[39;49m\u001b[39m}\u001b[39;49;00m\u001b[39m/BTCBUSD-1m-\u001b[39;49m\u001b[39m{\u001b[39;49;00mtargetDate\u001b[39m.\u001b[39;49myear\u001b[39m}\u001b[39;49;00m\u001b[39m-\u001b[39;49m\u001b[39m{\u001b[39;49;00mtargetDate\u001b[39m.\u001b[39;49mmonth\u001b[39m:\u001b[39;49;00m\u001b[39m02\u001b[39;49m\u001b[39m}\u001b[39;49;00m\u001b[39m.csv\u001b[39;49m\u001b[39m\"\u001b[39;49m)\n\u001b[0;32m     72\u001b[0m     startIndex \u001b[39m=\u001b[39m (targetDate\u001b[39m.\u001b[39mday \u001b[39m-\u001b[39m \u001b[39m1\u001b[39m) \u001b[39m*\u001b[39m \u001b[39m60\u001b[39m \u001b[39m*\u001b[39m \u001b[39m24\u001b[39m\n\u001b[0;32m     73\u001b[0m     endIndex \u001b[39m=\u001b[39m targetDate\u001b[39m.\u001b[39mday \u001b[39m*\u001b[39m \u001b[39m60\u001b[39m \u001b[39m*\u001b[39m \u001b[39m24\u001b[39m\n",
      "File \u001b[1;32md:\\GitHub-Projects\\crypto-rl-framework\\environment.py:82\u001b[0m, in \u001b[0;36mCryptoEnv.load\u001b[1;34m(pathname)\u001b[0m\n\u001b[0;32m     79\u001b[0m \u001b[39m@staticmethod\u001b[39m\n\u001b[0;32m     80\u001b[0m \u001b[39mdef\u001b[39;00m \u001b[39mload\u001b[39m(pathname: \u001b[39mstr\u001b[39m):\n\u001b[0;32m     81\u001b[0m     \u001b[39m\"\"\"Load from .csv assuming format of binance K-line data\"\"\"\u001b[39;00m\n\u001b[1;32m---> 82\u001b[0m     data \u001b[39m=\u001b[39m np\u001b[39m.\u001b[39;49mgenfromtxt(pathname, delimiter\u001b[39m=\u001b[39;49m\u001b[39m'\u001b[39;49m\u001b[39m,\u001b[39;49m\u001b[39m'\u001b[39;49m)\n\u001b[0;32m     84\u001b[0m     \u001b[39m# The columns are [Open High Low Close Volume]\u001b[39;00m\n\u001b[0;32m     85\u001b[0m     \u001b[39mreturn\u001b[39;00m data[:, \u001b[39m1\u001b[39m:\u001b[39m6\u001b[39m]\n",
      "File \u001b[1;32m~\\AppData\\Roaming\\Python\\Python310\\site-packages\\numpy\\lib\\npyio.py:2316\u001b[0m, in \u001b[0;36mgenfromtxt\u001b[1;34m(fname, dtype, comments, delimiter, skip_header, skip_footer, converters, missing_values, filling_values, usecols, names, excludelist, deletechars, replace_space, autostrip, case_sensitive, defaultfmt, unpack, usemask, loose, invalid_raise, max_rows, encoding, ndmin, like)\u001b[0m\n\u001b[0;32m   2312\u001b[0m \u001b[39m# Convert each value according to the converter:\u001b[39;00m\n\u001b[0;32m   2313\u001b[0m \u001b[39m# We want to modify the list in place to avoid creating a new one...\u001b[39;00m\n\u001b[0;32m   2314\u001b[0m \u001b[39mif\u001b[39;00m loose:\n\u001b[0;32m   2315\u001b[0m     rows \u001b[39m=\u001b[39m \u001b[39mlist\u001b[39m(\n\u001b[1;32m-> 2316\u001b[0m         \u001b[39mzip\u001b[39m(\u001b[39m*\u001b[39m[[conv\u001b[39m.\u001b[39m_loose_call(_r) \u001b[39mfor\u001b[39;00m _r \u001b[39min\u001b[39;00m \u001b[39mmap\u001b[39m(itemgetter(i), rows)]\n\u001b[0;32m   2317\u001b[0m               \u001b[39mfor\u001b[39;00m (i, conv) \u001b[39min\u001b[39;00m \u001b[39menumerate\u001b[39m(converters)]))\n\u001b[0;32m   2318\u001b[0m \u001b[39melse\u001b[39;00m:\n\u001b[0;32m   2319\u001b[0m     rows \u001b[39m=\u001b[39m \u001b[39mlist\u001b[39m(\n\u001b[0;32m   2320\u001b[0m         \u001b[39mzip\u001b[39m(\u001b[39m*\u001b[39m[[conv\u001b[39m.\u001b[39m_strict_call(_r) \u001b[39mfor\u001b[39;00m _r \u001b[39min\u001b[39;00m \u001b[39mmap\u001b[39m(itemgetter(i), rows)]\n\u001b[0;32m   2321\u001b[0m               \u001b[39mfor\u001b[39;00m (i, conv) \u001b[39min\u001b[39;00m \u001b[39menumerate\u001b[39m(converters)]))\n",
      "File \u001b[1;32m~\\AppData\\Roaming\\Python\\Python310\\site-packages\\numpy\\lib\\npyio.py:2316\u001b[0m, in \u001b[0;36m<listcomp>\u001b[1;34m(.0)\u001b[0m\n\u001b[0;32m   2312\u001b[0m \u001b[39m# Convert each value according to the converter:\u001b[39;00m\n\u001b[0;32m   2313\u001b[0m \u001b[39m# We want to modify the list in place to avoid creating a new one...\u001b[39;00m\n\u001b[0;32m   2314\u001b[0m \u001b[39mif\u001b[39;00m loose:\n\u001b[0;32m   2315\u001b[0m     rows \u001b[39m=\u001b[39m \u001b[39mlist\u001b[39m(\n\u001b[1;32m-> 2316\u001b[0m         \u001b[39mzip\u001b[39m(\u001b[39m*\u001b[39m[[conv\u001b[39m.\u001b[39m_loose_call(_r) \u001b[39mfor\u001b[39;00m _r \u001b[39min\u001b[39;00m \u001b[39mmap\u001b[39m(itemgetter(i), rows)]\n\u001b[0;32m   2317\u001b[0m               \u001b[39mfor\u001b[39;00m (i, conv) \u001b[39min\u001b[39;00m \u001b[39menumerate\u001b[39m(converters)]))\n\u001b[0;32m   2318\u001b[0m \u001b[39melse\u001b[39;00m:\n\u001b[0;32m   2319\u001b[0m     rows \u001b[39m=\u001b[39m \u001b[39mlist\u001b[39m(\n\u001b[0;32m   2320\u001b[0m         \u001b[39mzip\u001b[39m(\u001b[39m*\u001b[39m[[conv\u001b[39m.\u001b[39m_strict_call(_r) \u001b[39mfor\u001b[39;00m _r \u001b[39min\u001b[39;00m \u001b[39mmap\u001b[39m(itemgetter(i), rows)]\n\u001b[0;32m   2321\u001b[0m               \u001b[39mfor\u001b[39;00m (i, conv) \u001b[39min\u001b[39;00m \u001b[39menumerate\u001b[39m(converters)]))\n",
      "File \u001b[1;32m~\\AppData\\Roaming\\Python\\Python310\\site-packages\\numpy\\lib\\npyio.py:2316\u001b[0m, in \u001b[0;36m<listcomp>\u001b[1;34m(.0)\u001b[0m\n\u001b[0;32m   2312\u001b[0m \u001b[39m# Convert each value according to the converter:\u001b[39;00m\n\u001b[0;32m   2313\u001b[0m \u001b[39m# We want to modify the list in place to avoid creating a new one...\u001b[39;00m\n\u001b[0;32m   2314\u001b[0m \u001b[39mif\u001b[39;00m loose:\n\u001b[0;32m   2315\u001b[0m     rows \u001b[39m=\u001b[39m \u001b[39mlist\u001b[39m(\n\u001b[1;32m-> 2316\u001b[0m         \u001b[39mzip\u001b[39m(\u001b[39m*\u001b[39m[[conv\u001b[39m.\u001b[39;49m_loose_call(_r) \u001b[39mfor\u001b[39;00m _r \u001b[39min\u001b[39;00m \u001b[39mmap\u001b[39m(itemgetter(i), rows)]\n\u001b[0;32m   2317\u001b[0m               \u001b[39mfor\u001b[39;00m (i, conv) \u001b[39min\u001b[39;00m \u001b[39menumerate\u001b[39m(converters)]))\n\u001b[0;32m   2318\u001b[0m \u001b[39melse\u001b[39;00m:\n\u001b[0;32m   2319\u001b[0m     rows \u001b[39m=\u001b[39m \u001b[39mlist\u001b[39m(\n\u001b[0;32m   2320\u001b[0m         \u001b[39mzip\u001b[39m(\u001b[39m*\u001b[39m[[conv\u001b[39m.\u001b[39m_strict_call(_r) \u001b[39mfor\u001b[39;00m _r \u001b[39min\u001b[39;00m \u001b[39mmap\u001b[39m(itemgetter(i), rows)]\n\u001b[0;32m   2321\u001b[0m               \u001b[39mfor\u001b[39;00m (i, conv) \u001b[39min\u001b[39;00m \u001b[39menumerate\u001b[39m(converters)]))\n",
      "\u001b[1;31mKeyboardInterrupt\u001b[0m: "
     ]
    }
   ],
   "source": [
    "episodes = shuffleDates(startDate, endDate)\n",
    "print(f\"Training for {len(episodes)} episodes\")\n",
    "\n",
    "targetNetwork = clone_model(agent.model)\n",
    "targetNetwork.set_weights(agent.model.get_weights())\n",
    "\n",
    "for i, e in enumerate(episodes):\n",
    "    print(f\"\\nEpisode ({e}): \", end=\"\")\n",
    "    state = env.reset(e)\n",
    "    state = flatten(state)\n",
    "    time = 0\n",
    "\n",
    "    done = False\n",
    "    while not done:\n",
    "        # Trains for 1440 timesteps per episode\n",
    "        action = agent.act(state)\n",
    "        nextState, done, reward, value = env.step(actionMap[action])\n",
    "        nextState = flatten(nextState)\n",
    "\n",
    "        startBTC = state[0, CryptoEnv.stateLen * 5 + 0]\n",
    "        startBUSD = state[0, CryptoEnv.stateLen * 5 + 1]\n",
    "        endBTC = nextState[0,CryptoEnv.stateLen * 5 + 0]\n",
    "        endBUSD = nextState[0,CryptoEnv.stateLen * 5 + 1]\n",
    "\n",
    "        agent.remember(e, time, (startBTC, startBUSD, endBTC,\n",
    "                       endBUSD), action, done, reward)\n",
    "        state = nextState\n",
    "        if done:\n",
    "            profitPercent = (value - 1000) / 1000 * 100\n",
    "            print(f\"{i}/{len(episodes)}, epsilon:{agent.epsilon:.4f}\")\n",
    "            print(\n",
    "                f\"Final BTC: {nextState[0,CryptoEnv.stateLen * 5 + 0]:.5f}, BUSD: {nextState[0,CryptoEnv.stateLen * 5 + 1]:.5f}, Total Value: ${value:.3f}, profit: {profitPercent:.2f}%\")\n",
    "            scoreArr.append(value)\n",
    "        time += 1\n",
    "\n",
    "    if i > 0:\n",
    "        # Only train once in a while\n",
    "        # Speed up training process by gathering more data first\n",
    "        if i % 5 == 0:\n",
    "            agent.train(batchSize, targetNetwork)\n",
    "\n",
    "        # Update DQN target\n",
    "        if i % 25 == 0:\n",
    "            targetNetwork.set_weights(agent.model.get_weights())\n",
    "\n",
    "        if i % 150 == 0:\n",
    "            agent.save(output_dir + f\"weights_{i:04d}.hdf5\")\n",
    "\n",
    "agent.save(output_dir + f\"weights_final.hdf5\")\n"
   ]
  },
  {
   "cell_type": "code",
   "execution_count": null,
   "metadata": {},
   "outputs": [],
   "source": []
  }
 ],
 "metadata": {
  "kernelspec": {
   "display_name": "Python 3",
   "language": "python",
   "name": "python3"
  },
  "language_info": {
   "codemirror_mode": {
    "name": "ipython",
    "version": 3
   },
   "file_extension": ".py",
   "mimetype": "text/x-python",
   "name": "python",
   "nbconvert_exporter": "python",
   "pygments_lexer": "ipython3",
   "version": "3.10.4"
  },
  "orig_nbformat": 4,
  "vscode": {
   "interpreter": {
    "hash": "369f2c481f4da34e4445cda3fffd2e751bd1c4d706f27375911949ba6bb62e1c"
   }
  }
 },
 "nbformat": 4,
 "nbformat_minor": 2
}
